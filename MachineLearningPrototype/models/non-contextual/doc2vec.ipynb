{
 "cells": [
  {
   "cell_type": "markdown",
   "source": [
    "## Doc2vec - Proof of Concept\n",
    "With the following implementation we are trying to explore the capabilities of **Doc2vec** model in our dataset.\n",
    "The implementation of the model was based on **Gensim** library.\n",
    "\n",
    "**training_dataset**: a different document for each Github Issue.\n",
    "**test_dataset**: a different document with logs from each failed Jenkins pipeline.\n",
    "**task**: Document Similarity\n",
    "**input**: Jenkins logs\n",
    "**input_type**: different texts\n",
    "**output**: top 3 most similar GithubIssues\n",
    "**measure**: accuracy_score\n",
    "\n",
    "**Important Note for accuracy measure**\n",
    "The current model is potentially going to serve a specific GUI functionality.\n",
    "This functionality considers a successful match of the GithubIssue document and the JenkinsLog,\n",
    "if the first one is contained in the top 3 output documents."
   ],
   "metadata": {
    "collapsed": false,
    "pycharm": {
     "name": "#%% md\n"
    }
   }
  },
  {
   "cell_type": "code",
   "execution_count": 1,
   "outputs": [],
   "source": [
    "import gensim\n",
    "import itertools\n",
    "import matplotlib.pyplot as plt\n",
    "import pandas as pd\n",
    "import seaborn as sns\n",
    "\n",
    "from gensim.models import KeyedVectors\n",
    "from gensim.models.doc2vec import TaggedDocument\n",
    "from sklearn.metrics import accuracy_score,precision_score,recall_score,f1_score\n",
    "from MachineLearningPrototype.utils.preprocess_data import create_models_datasets"
   ],
   "metadata": {
    "collapsed": false,
    "pycharm": {
     "name": "#%%\n"
    }
   }
  },
  {
   "cell_type": "markdown",
   "source": [
    "#### Declaration of training and test data"
   ],
   "metadata": {
    "collapsed": false,
    "pycharm": {
     "name": "#%% md\n"
    }
   }
  },
  {
   "cell_type": "code",
   "execution_count": 2,
   "outputs": [],
   "source": [
    "train_data_path = '../../data/GitHubData/IssueContent'\n",
    "train_data_extra_path = '../../data/GitHubData/IssueContentQuote'\n",
    "test_data_path = '../../data/JenkinsData'\n",
    "model_name = 'doc2vec'\n",
    "\n",
    "df_git = create_models_datasets(train_data_path, train_data_extra_path,train_data=True)\n",
    "df_jenkins = create_models_datasets(test_data_path, \"\", train_data=False)"
   ],
   "metadata": {
    "collapsed": false,
    "pycharm": {
     "name": "#%%\n"
    }
   }
  },
  {
   "cell_type": "markdown",
   "source": [
    "#### Preparation of data for Doc2vec"
   ],
   "metadata": {
    "collapsed": false,
    "pycharm": {
     "name": "#%% md\n"
    }
   }
  },
  {
   "cell_type": "code",
   "execution_count": 3,
   "outputs": [],
   "source": [
    "## Create TaggedDocument objects for the Doc2vec model\n",
    "doc2vec_data = []\n",
    "count=0\n",
    "for idx,doc in enumerate(df_git.iterrows()):\n",
    "    # tokenize documents with gensim's simple_preprocess\n",
    "    words = gensim.utils.simple_preprocess(df_git.iloc[idx]['content'])\n",
    "    tags = df_git.iloc[idx]['labels']\n",
    "    doc2vec_data.append(TaggedDocument(words=words, tags=[tags]))\n",
    "    count +=1\n"
   ],
   "metadata": {
    "collapsed": false,
    "pycharm": {
     "name": "#%%\n"
    }
   }
  },
  {
   "cell_type": "markdown",
   "source": [
    "#### Training Doc2vec\n",
    "During the training of our models we applied both of the provided training algorithms of **Doc2vec** (PV-DM','PV-DBOW') implementation.\n",
    "Furthermore, we tried different values for the parameters of **window_size** and **embeddings_size**.\n",
    "\n",
    "We applied multiple execution, with different parameters' settings in order to retrieve more indicative samples of doc2vec performance.\n",
    "Our purpose was not to find the best doc2vec model for our dataset.\n",
    "\n",
    "The measure of similarity for our document classification task is the cosine distance.\n",
    "Cosine distance indicates the proximity of two different documents in a common semantic space.\n",
    "This measure has been applied through the usage of **most_similar** function that is provided from the **Gensim Doc2vec** model.\n",
    "\n"
   ],
   "metadata": {
    "collapsed": false,
    "pycharm": {
     "name": "#%% md\n"
    }
   }
  },
  {
   "cell_type": "code",
   "execution_count": 4,
   "outputs": [],
   "source": [
    "def train_doc2vec_model(vector_size,window,dm,epochs):\n",
    "    # set model\n",
    "    model = gensim.models.doc2vec.Doc2Vec(vector_size=vector_size, window=window, sample=0.00001, dm=dm, epochs=epochs)\n",
    "    # initialize vocabulary\n",
    "    model.build_vocab(doc2vec_data)\n",
    "    # train Doc2Vec model\n",
    "    model.train(doc2vec_data, total_examples=model.corpus_count, epochs=model.epochs)\n",
    "    # Uncomment the next 3 lines in case you want to save each trained model\n",
    "    #\n",
    "    #model.dv.save_word2vec_format(os.path.join(os.getcwd(),model_name))\n",
    "    #model.save(model_name + '.model')\n",
    "    return model"
   ],
   "metadata": {
    "collapsed": false,
    "pycharm": {
     "name": "#%%\n"
    }
   }
  },
  {
   "cell_type": "code",
   "execution_count": 5,
   "outputs": [],
   "source": [
    "vectors_size = [50,100,200,300]\n",
    "windows = [2,4,6,8,10]\n",
    "algorithm_dict = {'PV-DM':1,'PV-DBOW':0}\n",
    "\n",
    "epoch = 20\n",
    "\n",
    "# dataframe to store the results from the different executions\n",
    "executions_df = pd.DataFrame(columns = ['algorithm', 'dimension', 'window','epoch','f1score','accuracy','precision',\n",
    "                                     'recall'])\n",
    "\n",
    "count = 0\n",
    "for dim in vectors_size:\n",
    "    for window in windows:\n",
    "        for key in algorithm_dict:\n",
    "\n",
    "            model_doc2vec = train_doc2vec_model(dim,window,algorithm_dict[key],epoch)\n",
    "            # Uncomment the next 2 lines in case you want to load each trained model\n",
    "\n",
    "            #model_doc2vec = gensim.models.doc2vec.Doc2Vec.load(model_name + '.model')\n",
    "\n",
    "            docs_pred = []\n",
    "            docs_true = [1] * len(df_jenkins)\n",
    "\n",
    "            for idx in range(len(df_jenkins)):\n",
    "                # calculate document embeddings for the incoming document\n",
    "                inferred_vector = model_doc2vec.infer_vector(gensim.utils.simple_preprocess(df_jenkins.iloc[idx]['content']))\n",
    "                # retrieve top 3 most similar documents based on the cosine distance\n",
    "                topn_src_similar = [i[0].split(\"_\",1)[1] for i in model_doc2vec.dv.most_similar(positive=inferred_vector,topn=3)]\n",
    "                # retrieve file name without prefix (\"git\",\"jenkins\")\n",
    "                label = str(df_jenkins.iloc[idx]['labels']).split(\"_\",1)[1]\n",
    "\n",
    "                if label in topn_src_similar:\n",
    "                    predicted = True\n",
    "                else:\n",
    "                    predicted = False\n",
    "\n",
    "                docs_pred.append(int(predicted))\n",
    "\n",
    "            count +=1\n",
    "            executions_df.loc[count] = [key, dim, window, epoch,round(f1_score(docs_true, docs_pred),3),\n",
    "                                        round(accuracy_score(docs_true, docs_pred),3),\n",
    "                                        round(precision_score(docs_true, docs_pred),3),\n",
    "                                        round(recall_score(docs_true, docs_pred),3)]\n"
   ],
   "metadata": {
    "collapsed": false,
    "pycharm": {
     "name": "#%%\n"
    }
   }
  },
  {
   "cell_type": "code",
   "execution_count": 6,
   "outputs": [
    {
     "name": "stdout",
     "output_type": "stream",
     "text": [
      "   algorithm  dimension  window  epoch  f1score  accuracy  precision  recall\n",
      "39   PV-DBOW        300      10     20    0.583     0.412        1.0   0.412\n",
      "37   PV-DBOW        300       8     20    0.583     0.412        1.0   0.412\n",
      "23   PV-DBOW        200       4     20    0.583     0.412        1.0   0.412\n",
      "35   PV-DBOW        300       6     20    0.583     0.412        1.0   0.412\n",
      "19   PV-DBOW        100      10     20    0.583     0.412        1.0   0.412\n"
     ]
    }
   ],
   "source": [
    "# save results in a csv format\n",
    "executions_df.to_csv('executions_df', index=False)\n",
    "executions_df = pd.read_csv('executions_df', index_col=False)\n",
    "print(executions_df.sort_values(by='accuracy',ascending=False).head())"
   ],
   "metadata": {
    "collapsed": false,
    "pycharm": {
     "name": "#%%\n"
    }
   }
  },
  {
   "cell_type": "markdown",
   "source": [
    "#### Comparison of different Doc2vec training algorithms\n",
    "After the usage of boxplot visualization technique, it is obvious that\n",
    "<u>for our dataset</u> and <u>the current training settings</u> **PV-DBOW overwhelms PV-DM**."
   ],
   "metadata": {
    "collapsed": false,
    "pycharm": {
     "name": "#%% md\n"
    }
   }
  },
  {
   "cell_type": "code",
   "execution_count": 7,
   "outputs": [
    {
     "data": {
      "text/plain": "<Figure size 576x432 with 1 Axes>",
      "image/png": "[encoded data removed]"
     },
     "metadata": {},
     "output_type": "display_data"
    }
   ],
   "source": [
    "fig, ax = plt.subplots(figsize=(8, 6))\n",
    "sns.set()\n",
    "sns.boxplot(ax=ax,x='algorithm', y='accuracy', saturation=1, data=executions_df)\n",
    "# specify axis labels\n",
    "plt.xlabel('Algorithm', size=14, family='monospace')\n",
    "plt.ylabel('Accuracy', size=14, family='monospace')\n",
    "plt.title('Doc2Vec algorithms score')\n",
    "plt.show()"
   ],
   "metadata": {
    "collapsed": false,
    "pycharm": {
     "name": "#%%\n"
    }
   }
  },
  {
   "cell_type": "markdown",
   "source": [
    "#### Inspection of window_size and embeddings_size parameters\n",
    "We can also notice that:\n",
    "- embeddings with a size of **200** and **300**, achieved the highest score for certain windows sizes.\n",
    "- embeddings of size **100** managed also to achieve the highest score with a setting of 2 windows size."
   ],
   "metadata": {
    "collapsed": false,
    "pycharm": {
     "name": "#%% md\n"
    }
   }
  },
  {
   "cell_type": "code",
   "execution_count": 8,
   "outputs": [
    {
     "data": {
      "text/plain": "<Figure size 576x432 with 1 Axes>",
      "image/png": "[encoded data removed]"
     },
     "metadata": {},
     "output_type": "display_data"
    }
   ],
   "source": [
    "fig, ax = plt.subplots(figsize=(8, 6))\n",
    "sns.set()\n",
    "sns.boxplot(ax=ax,x='dimension', y='accuracy',saturation=1,\n",
    "            data=executions_df.loc[(executions_df['algorithm'] == 'PV-DBOW')][['accuracy','dimension']])\n",
    "# specify axis labels\n",
    "plt.xlabel('', size=14, family='monospace')\n",
    "plt.ylabel('Accuracy', size=14, family='monospace')\n",
    "plt.title('Doc2Vec algorithms score')\n",
    "plt.show()"
   ],
   "metadata": {
    "collapsed": false,
    "pycharm": {
     "name": "#%%\n"
    }
   }
  },
  {
   "cell_type": "code",
   "execution_count": 9,
   "outputs": [
    {
     "data": {
      "text/plain": "<Figure size 720x576 with 4 Axes>",
      "image/png": "[encoded data removed]"
     },
     "metadata": {},
     "output_type": "display_data"
    }
   ],
   "source": [
    "fig, axis = plt.subplots(nrows = 2, ncols = 2, sharex=True, sharey = True,figsize=(10,8))\n",
    "\n",
    "# indicate different subplots\n",
    "rownum = colnum = 0\n",
    "# subplots' colors\n",
    "colors = itertools.cycle([\"r\", \"b\", \"g\",\"orange\"])\n",
    "\n",
    "for idx,dim in enumerate(vectors_size):\n",
    "    if (idx % 2) == 0 and idx!=0:\n",
    "        rownum +=1\n",
    "        colnum=0\n",
    "\n",
    "    x = executions_df.loc[(executions_df['algorithm'] == 'PV-DBOW') & (executions_df['dimension'] == dim)][['window']]\n",
    "    y = executions_df.loc[(executions_df['algorithm'] == 'PV-DBOW') & (executions_df['dimension'] == dim)][['accuracy']]\n",
    "    label = str(dim)+\"dim\"\n",
    "    axis[rownum][colnum].scatter(x,y,label = label,s=50,color=next(colors))\n",
    "    #axis[rownum][colnum].title.set_text(key)\n",
    "    axis[rownum][colnum].legend(loc=\"upper left\")\n",
    "    axis[rownum][colnum].set_xlabel('windows')\n",
    "    axis[rownum][colnum].set_ylabel('accuracy')\n",
    "\n",
    "    colnum +=1\n",
    "plt.rcParams['axes.grid'] = True\n",
    "#plt.ylabel('accuracy') #xlabel\n",
    "#plt.xlabel('window') #ylabel\n",
    "plt.show()"
   ],
   "metadata": {
    "collapsed": false,
    "pycharm": {
     "name": "#%%\n"
    }
   }
  },
  {
   "cell_type": "markdown",
   "source": [
    "### Results\n",
    "**Doc2vec** model managed to achieve a score of **0.412** with quite different setups in terms of:\n",
    "- **window_size**\n",
    "- **embeddings_size**\n",
    "\n",
    "We need to mention that from our initial tests the score of 0.412 was obtainable only from a model with embeddings_size of 300.\n",
    "After tweaking the parameter of **sample** ($1^{-3}$ to $1^{-5}$),\n",
    "we were able to obtain the maximum accuracy score also with models which had embeddings_size of 200 or 100."
   ],
   "metadata": {
    "collapsed": false,
    "pycharm": {
     "name": "#%% md\n"
    }
   }
  },
  {
   "cell_type": "code",
   "execution_count": null,
   "outputs": [],
   "source": [],
   "metadata": {
    "collapsed": false,
    "pycharm": {
     "name": "#%%\n"
    }
   }
  }
 ],
 "metadata": {
  "kernelspec": {
   "display_name": "Python 3",
   "language": "python",
   "name": "python3"
  },
  "language_info": {
   "codemirror_mode": {
    "name": "ipython",
    "version": 2
   },
   "file_extension": ".py",
   "mimetype": "text/x-python",
   "name": "python",
   "nbconvert_exporter": "python",
   "pygments_lexer": "ipython2",
   "version": "2.7.6"
  }
 },
 "nbformat": 4,
 "nbformat_minor": 0
}